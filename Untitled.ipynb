{
 "cells": [
  {
   "cell_type": "code",
   "execution_count": 1,
   "metadata": {},
   "outputs": [
    {
     "name": "stdout",
     "output_type": "stream",
     "text": [
      "['열심히', '코딩', '한', '당신', ',', '연휴', '에는', '여행', '을', '가봐요', '!']\n"
     ]
    }
   ],
   "source": [
    "from konlpy.tag import Okt\n",
    "import gensim\n",
    "okt=Okt()  \n",
    "print(okt.morphs(\"열심히 코딩한 당신, 연휴에는 여행을 가봐요!\"))"
   ]
  },
  {
   "cell_type": "code",
   "execution_count": 2,
   "metadata": {},
   "outputs": [],
   "source": [
    "f = open(\"./learning/data.txt\", 'r', encoding='UTF-8')\n",
    "temp = f.readlines()\n",
    "# for line in lines:\n",
    "#     print(line)\n",
    "lines=[]\n",
    "for line in temp:\n",
    "    lines.append(line.replace(\"\\n\",\"\"))\n",
    "f.close()"
   ]
  },
  {
   "cell_type": "code",
   "execution_count": 3,
   "metadata": {
    "scrolled": false
   },
   "outputs": [
    {
     "name": "stdout",
     "output_type": "stream",
     "text": [
      "['얼리', '버드', '기상']\n",
      "['잘까']\n",
      "['하지만', '자야겠다']\n",
      "['그냥', '잘까']\n",
      "['수업', '땜', '에', '일어남']\n",
      "['12시', '50분', '알람', '맞춰놓고', '잠시', '자야지']\n",
      "['자야지']\n",
      "['싸이', '갈까', '걍', '자', '버릴까']\n",
      "['생활', '패턴', '돌려', '보기', 'vs', '그냥', '자기']\n",
      "['리겜', '하기엔', '졸리', '다']\n",
      "['오늘', '은', '피곤하니']\n",
      "['일찍', '자', '야', '징']\n",
      "['자러', '갈까']\n",
      "['졸려']\n",
      "['잘까']\n",
      "['아', '머리', '아프다']\n",
      "['다시', '자야', '징']\n",
      "['졸령']\n",
      "['잘까']\n",
      "['씻고', '잘라고']\n",
      "['너무', '졸려']\n",
      "['쉴까']\n",
      "['겁나', '졸리', '네']\n",
      "['일어나도', '겁나', '피곤하내']\n",
      "['졸려']\n",
      "['자야하는데']\n",
      "['밥', '먹고오니까', '개', '졸리', '네']\n",
      "['졸려']\n",
      "['피곤해']\n",
      "['제', '가', '미는', '작곡가', '노래', '나', '던지고', '자러', '감']\n",
      "['이제', '잘라고']\n",
      "['개', '피곤']\n",
      "['잔다']\n",
      "['잘까']\n",
      "['이', '제', '진짜', '잠', 'ㅎㅎ']\n",
      "['아픈', '상태', '로', '하루', '시', '가능', '불가능', '승부', '존']\n",
      "['아졸', '려']\n",
      "['얌전히', '자야하나']\n",
      "['좀더', '자야겟다']\n",
      "['걍', '끝내고', '잘까']\n",
      "['졸려', '뒤질거', '같아']\n",
      "['죽여줘']\n",
      "['지금', '좀', '상태', '가', '안좋음']\n",
      "['다시', '자야지']\n",
      "['자야', '징']\n",
      "['근데', '술', '마시고', '와서']\n",
      "['다시', '잔다', 'vs', '일어나서', '씻는다']\n",
      "['어제', '술', '먹고', '진짜', '쓰러지듯이', '잤군']\n",
      "['나도자', '야하는디']\n",
      "['밤샜더니', '넘', '피곤']\n",
      "['확실히', '3', '연', '속', '재획', '은', '힘들군']\n",
      "['왤케', '머리', '어지럽지']\n",
      "['술', '먹고오니까', '피곤하다']\n",
      "['21시간', '째', '무', '수면', '인데', '리겜', '하', '니까', '머리', '가', '댕', '아프네']\n"
     ]
    }
   ],
   "source": [
    "for i in range(0,len(lines)):\n",
    "    print(okt.morphs(lines[i]))"
   ]
  },
  {
   "cell_type": "code",
   "execution_count": 4,
   "metadata": {},
   "outputs": [],
   "source": [
    "ko_model = gensim.models.Word2Vec.load('./learning/ko.bin')"
   ]
  },
  {
   "cell_type": "code",
   "execution_count": 11,
   "metadata": {},
   "outputs": [],
   "source": [
    "result = ko_model.wv.most_similar(\"자라\")"
   ]
  },
  {
   "cell_type": "code",
   "execution_count": 12,
   "metadata": {},
   "outputs": [
    {
     "name": "stdout",
     "output_type": "stream",
     "text": [
      "[('자라나', 0.6773195266723633), ('살', 0.5551583766937256), ('여물', 0.5414658188819885), ('태어나', 0.5332110524177551), ('깨어나', 0.5084865689277649), ('걸어다니', 0.5025233030319214), ('살아가', 0.4974919557571411), ('우거지', 0.4953168034553528), ('자생', 0.48944416642189026), ('나무라', 0.47950151562690735)]\n"
     ]
    }
   ],
   "source": [
    "print(result)"
   ]
  },
  {
   "cell_type": "code",
   "execution_count": null,
   "metadata": {},
   "outputs": [],
   "source": []
  }
 ],
 "metadata": {
  "kernelspec": {
   "display_name": "Python 3",
   "language": "python",
   "name": "python3"
  },
  "language_info": {
   "codemirror_mode": {
    "name": "ipython",
    "version": 3
   },
   "file_extension": ".py",
   "mimetype": "text/x-python",
   "name": "python",
   "nbconvert_exporter": "python",
   "pygments_lexer": "ipython3",
   "version": "3.7.9"
  }
 },
 "nbformat": 4,
 "nbformat_minor": 4
}
